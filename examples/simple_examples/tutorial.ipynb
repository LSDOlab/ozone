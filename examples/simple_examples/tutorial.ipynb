{
 "cells": [
  {
   "cell_type": "markdown",
   "metadata": {},
   "source": [
    "# ODE Review\n",
    "\n",
    "This tutorial demonstrates how to use `Ozone` to solve an ODE of the form\n",
    "$$\n",
    "\\frac{\\partial{y}}{\\partial{t}} = f(y), \n",
    "$$\n",
    "where $y$ is the state variable to integrate, with initial conditions $y_0$.\n",
    "\n",
    "## Simple ODE\n",
    "Let's solve the simple ODE:\n",
    "$$ \\frac{\\partial{y}}{\\partial{t}} = 0.5y-3, \\qquad y_0 = 1$$\n",
    "\n",
    "We'll solve this ODE from $t = 0$ to $t=1$ with a timestep size of $0.1$\n",
    "\n",
    "To implement this in `ozone`, we formulate the ODE problem using `ozone`s `ODEProblem`. The `ODEProblem` object lets you specify:\n",
    "- ODE states (just $y$ in this case)\n",
    "- any ODE parameters (none in this example)\n",
    "- numerical integration timespan (10 steps with size 0.1 for this example)\n",
    "- numerical method\n",
    "- solution approach\n",
    "\n",
    "Start by importing the `ODEProblem` object and instantiate it by passing in the desired method and approach using `ozone`'s API. We'll use the impliit Gauss-Legendre 4 method and solve it using time-marching."
   ]
  },
  {
   "cell_type": "code",
   "execution_count": 6,
   "metadata": {},
   "outputs": [],
   "source": [
    "import numpy as np\n",
    "import csdl_alpha as csdl\n",
    "\n",
    " # Start CSDL recorder\n",
    "recorder = csdl.Recorder(inline = True)\n",
    "recorder.start()\n",
    "\n",
    "# Set a method and approach\n",
    "import ozone\n",
    "ode_problem = ozone.ODEProblem(\n",
    "    ozone.methods.GaussLegendre4(),\n",
    "    ozone.approaches.TimeMarching(),\n",
    ")"
   ]
  },
  {
   "cell_type": "markdown",
   "metadata": {},
   "source": [
    "In `ozone`, you can combine any method with any solution approach. Methods include the following explicit and implicit Runge-Kutta methods: \n",
    "\n",
    "- **Explicit**: ForwardEuler, ExplicitMidpoint, KuttaThirdOrder, RK4, RK6, RalstonsMethod, and HeunsMethod\n",
    "- **Implicit**: BackwardEuler, ImplicitMidpoint, GaussLegendre2, GaussLegendre4, GaussLegendre6, Lobatto2, Lobatto4, RadauI3, RadauI5, RadauII3, RadauII5, Trapezoidal, AB1, AM1, and BDF1\n",
    "\n",
    "These methods can be solved using one of four solution approaches:\n",
    "- **TimeMarching**: Compute the state sequentially through timesteps.\n",
    "- **PicardIteration**: Compute the state across timesteps in parallel\n",
    "- **TimeMarchingUniform**: Same as time-marching but memory usage is reduced with the added cost of slower computation time\n",
    "- **Collocation**: Solves for the state through an optimization problem"
   ]
  },
  {
   "cell_type": "markdown",
   "metadata": {},
   "source": [
    "Let's continue by setting our ODE states. To define a state, provide a unique name and pass in a `CSDL` or NumPy variable for the initial condition. The state variable's shape will be inferred from the initial condition shape.\n",
    "\n",
    "Here we set the initial condition $y_0 = 1.0$ and store the solution history as an output."
   ]
  },
  {
   "cell_type": "code",
   "execution_count": 7,
   "metadata": {},
   "outputs": [],
   "source": [
    "y_initial = csdl.Variable(value = 1.0) # Differentiable\n",
    "ode_problem.add_state('y', y_initial, store_history=True)"
   ]
  },
  {
   "cell_type": "markdown",
   "metadata": {},
   "source": [
    "Next, lets define the integration timespan. `Ozone` provides an API to help discretize the integration timespan for your problem using the `ozone.timespan` module. Lets define our timespan by giving a vector of timestep sizes. \n",
    "\n",
    "In this case, we define a uniform step size of 0.1 over 10 timesteps, integrating the system over the interval [0,1]."
   ]
  },
  {
   "cell_type": "code",
   "execution_count": 8,
   "metadata": {},
   "outputs": [],
   "source": [
    "step_vector = csdl.Variable(value = np.full(10,0.1)) # Differentiable\n",
    "ode_problem.set_timespan(\n",
    "    ozone.timespans.StepVector(start=0.0, step_vector=step_vector)\n",
    ")"
   ]
  },
  {
   "cell_type": "markdown",
   "metadata": {},
   "source": [
    "Then, lets define the ODE function itself and add it to our `ODEProblem`. The ODE function must define state derivatives $\\frac{\\partial{y}}{\\partial{t}}$ given $y$ using the unique name defined earlier.\n",
    "\n",
    "For efficiency, the ODE function must be **vectorized**. This means it should handle the input $y$ and return the state derivatives in a vectorized form, which can significantly speed up the computation when working with large systems. `Ozone` will automatically set the shape of the state to be ($n$, (state shape)) and the user must return the derivatives with the same shape. For Gauss-Legendre 4 with time-marching, `ozone` automatically sets $n$ as 2.\n",
    "\n",
    "For this problem, the ODE function looks like:"
   ]
  },
  {
   "cell_type": "code",
   "execution_count": 9,
   "metadata": {},
   "outputs": [],
   "source": [
    "def ode_function(ozone_vars:ozone.ODEVars):\n",
    "    y = ozone_vars.states['y'] # y shape is (2,1)\n",
    "    print('y shape:', y.shape)\n",
    "    ozone_vars.d_states['y'] = 0.5*y-3 # dy_dt = 0.5y-3\n",
    "ode_problem.set_function(ode_function)"
   ]
  },
  {
   "cell_type": "markdown",
   "metadata": {},
   "source": [
    "Finally, lets solve our ODE by calling the `solve` method."
   ]
  },
  {
   "cell_type": "code",
   "execution_count": 10,
   "metadata": {},
   "outputs": [
    {
     "name": "stdout",
     "output_type": "stream",
     "text": [
      "y shape: (2, 1)\n",
      "nonlinear solver: ozone_stage_solver converged in 1 iterations.\n",
      "nonlinear solver: ozone_stage_solver converged in 1 iterations.\n",
      "nonlinear solver: ozone_stage_solver converged in 1 iterations.\n",
      "nonlinear solver: ozone_stage_solver converged in 1 iterations.\n",
      "nonlinear solver: ozone_stage_solver converged in 1 iterations.\n",
      "nonlinear solver: ozone_stage_solver converged in 1 iterations.\n",
      "nonlinear solver: ozone_stage_solver converged in 1 iterations.\n",
      "nonlinear solver: ozone_stage_solver converged in 1 iterations.\n",
      "nonlinear solver: ozone_stage_solver converged in 1 iterations.\n",
      "nonlinear solver: ozone_stage_solver converged in 1 iterations.\n",
      "nonlinear solver: ozone_stage_solver converged in 1 iterations.\n",
      "numerically integrated y at t = 0, 0.1 , ... 1.0:\n",
      "[[ 1.        ]\n",
      " [ 0.74364452]\n",
      " [ 0.47414541]\n",
      " [ 0.19082879]\n",
      " [-0.10701378]\n",
      " [-0.42012707]\n",
      " [-0.74929402]\n",
      " [-1.09533772]\n",
      " [-1.45912346]\n",
      " [-1.8415609 ]\n",
      " [-2.24360632]]\n",
      "analytical y at t = 1.0:\n",
      "-2.243606353500642\n"
     ]
    }
   ],
   "source": [
    "ode_outputs = ode_problem.solve()\n",
    "solved_y = ode_outputs.states['y']\n",
    "print('numerically integrated y at t = 0, 0.1 , ... 1.0:')\n",
    "print(solved_y.value)\n",
    "print('analytical y at t = 1.0:')\n",
    "print(6-5*np.exp(0.5))"
   ]
  },
  {
   "cell_type": "markdown",
   "metadata": {},
   "source": [
    "This tutorial covered the basic workflow of defining and solving an ODE problem using `ozone`. To see a more advanced example with static parameters, dynamic parameters, and derivatives through the numerical integration process, refer to the Lotka-Volterra example in the same directory."
   ]
  }
 ],
 "metadata": {
  "kernelspec": {
   "display_name": "ozone_paper",
   "language": "python",
   "name": "python3"
  },
  "language_info": {
   "codemirror_mode": {
    "name": "ipython",
    "version": 3
   },
   "file_extension": ".py",
   "mimetype": "text/x-python",
   "name": "python",
   "nbconvert_exporter": "python",
   "pygments_lexer": "ipython3",
   "version": "3.9.0"
  }
 },
 "nbformat": 4,
 "nbformat_minor": 2
}
